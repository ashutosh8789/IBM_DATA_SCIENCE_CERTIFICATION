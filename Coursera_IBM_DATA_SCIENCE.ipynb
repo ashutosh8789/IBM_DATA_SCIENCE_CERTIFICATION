{
 "cells": [
  {
   "cell_type": "markdown",
   "id": "46e34ee8",
   "metadata": {},
   "source": [
    "# Data Science Tools and Ecosystem"
   ]
  },
  {
   "cell_type": "markdown",
   "id": "04e71d45",
   "metadata": {},
   "source": [
    "## Introduction\n",
    "In this notebook, we will explore the different languages, libraries, and tools used in the field of Data Science. Additionally, we will demonstrate some basic arithmetic expressions.\n",
    "\n"
   ]
  },
  {
   "cell_type": "markdown",
   "id": "5540349a",
   "metadata": {},
   "source": [
    "## Data Science Languages\n",
    "1.  Python\n",
    "2.  R\n",
    "3.  SQL\n",
    "4.  Scala\n",
    "5.  Java\n",
    "6.  Julia\n",
    "7.  Go\n",
    "8.  Php\n",
    "9.  Ruby\n",
    "10. c++\n",
    "11. Javascript\n",
    "12. Visual Basic"
   ]
  },
  {
   "cell_type": "markdown",
   "id": "b58cf9dd",
   "metadata": {},
   "source": [
    "## Data Science Libraries\n",
    "1.  Pandas\n",
    "2.  NumPy\n",
    "3.  Matplotlib\n",
    "4.  Scikit-learn\n",
    "5.  TensorFlow\n",
    "6.  Keras\n",
    "7.  Seaborn\n",
    "8.  PyTorch\n",
    "9.  Apache Spark\n",
    "10. Vegas\n",
    "11. Big DL\n",
    "12. Ggplot2\n"
   ]
  },
  {
   "cell_type": "markdown",
   "id": "7d0ac500",
   "metadata": {},
   "source": [
    "## Data Science Tools\n",
    "\n",
    "| Tool              | Description                         |\n",
    "|-------------------|-------------------------------------|\n",
    "| Jupyter Notebook  | Interactive coding environment      |\n",
    "| RStudio           | IDE for R programming               |\n",
    "| Apache Hadoop     | Framework for distributed storage   |\n",
    "| TensorFlow        | Deep learning framework             |\n",
    "| Apache Spark      | Distributed data processing engine  |\n"
   ]
  },
  {
   "cell_type": "markdown",
   "id": "f37624f3",
   "metadata": {},
   "source": [
    "## Arithmetic Expression Examples\n",
    "In the following cells, we will demonstrate some basic arithmetic operations such as multiplication and addition.\n"
   ]
  },
  {
   "cell_type": "markdown",
   "id": "980f2c32",
   "metadata": {},
   "source": [
    "# Multiplication and Addition Example\n"
   ]
  },
  {
   "cell_type": "code",
   "execution_count": 2,
   "id": "753f55ea",
   "metadata": {
    "scrolled": true
   },
   "outputs": [
    {
     "data": {
      "text/plain": [
       "40"
      ]
     },
     "execution_count": 2,
     "metadata": {},
     "output_type": "execute_result"
    }
   ],
   "source": [
    "(5 * 6) + 10"
   ]
  },
  {
   "cell_type": "markdown",
   "id": "5a4c49b6",
   "metadata": {},
   "source": [
    "# Convert minutes to hours\n"
   ]
  },
  {
   "cell_type": "code",
   "execution_count": 3,
   "id": "f91837bd",
   "metadata": {},
   "outputs": [
    {
     "data": {
      "text/plain": [
       "2.0"
      ]
     },
     "execution_count": 3,
     "metadata": {},
     "output_type": "execute_result"
    }
   ],
   "source": [
    "minutes = 120\n",
    "hours = minutes / 60\n",
    "hours"
   ]
  },
  {
   "cell_type": "markdown",
   "id": "a2aade96",
   "metadata": {},
   "source": [
    "## Objectives\n",
    "- Understand the core languages used in Data Science\n",
    "- Explore common libraries for Data Science\n",
    "- Learn about essential tools in the Data Science ecosystem\n",
    "- Practice basic arithmetic expressions in Python"
   ]
  },
  {
   "cell_type": "markdown",
   "id": "a73138ad",
   "metadata": {},
   "source": [
    "## Author\n",
    "Ashutosh Prabhakar"
   ]
  },
  {
   "cell_type": "code",
   "execution_count": null,
   "id": "6acebf6b",
   "metadata": {},
   "outputs": [],
   "source": []
  },
  {
   "cell_type": "code",
   "execution_count": null,
   "id": "38c64439-6b7f-4f27-a050-9bf7ebf2eef8",
   "metadata": {},
   "outputs": [],
   "source": []
  }
 ],
 "metadata": {
  "kernelspec": {
   "display_name": "Python 3 (ipykernel)",
   "language": "python",
   "name": "python3"
  },
  "language_info": {
   "codemirror_mode": {
    "name": "ipython",
    "version": 3
   },
   "file_extension": ".py",
   "mimetype": "text/x-python",
   "name": "python",
   "nbconvert_exporter": "python",
   "pygments_lexer": "ipython3",
   "version": "3.12.4"
  }
 },
 "nbformat": 4,
 "nbformat_minor": 5
}
